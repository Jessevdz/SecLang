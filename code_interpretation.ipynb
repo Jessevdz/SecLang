{
 "cells": [
  {
   "attachments": {},
   "cell_type": "markdown",
   "metadata": {},
   "source": [
    "### 0. Setup"
   ]
  },
  {
   "cell_type": "code",
   "execution_count": 2,
   "metadata": {},
   "outputs": [],
   "source": [
    "import openai\n",
    "from secret_keys import OPENAI_API_KEY\n",
    "openai.api_key = OPENAI_API_KEY\n",
    "from utils import complete_prompt"
   ]
  },
  {
   "attachments": {},
   "cell_type": "markdown",
   "metadata": {},
   "source": [
    "# 1. Code safety"
   ]
  },
  {
   "cell_type": "code",
   "execution_count": 3,
   "metadata": {},
   "outputs": [],
   "source": [
    "sql_injection_1 = \"\"\"String query = String.format(\"SELECT * FROM users WHERE usr='%s' AND pwd='%s'\", usr, pwd);\n",
    "Connection conn = db.getConn();\n",
    "Statement stmt = conn.createStatement();\n",
    "ResultSet rs = stmt.executeQuery(query);\n",
    "\"\"\"\n",
    "\n",
    "sql_injection_2 = \"\"\"String query = \"SELECT * FROM users WHERE usr = ? AND pwd = ?\";\n",
    "Connection conn = db.getConn();\n",
    "PreparedStatement stmt = conn.prepareStatement(query);\n",
    "stmt.setString(1, usr);\n",
    "stmt.setString(2, pwd);\n",
    "ResultSet rs = stmt.executeQuery();\n",
    "\"\"\""
   ]
  },
  {
   "cell_type": "code",
   "execution_count": 4,
   "metadata": {},
   "outputs": [],
   "source": [
    "def get_prompt(code_snippet: str):\n",
    "    prompt = f\"\"\"{code_snippet}\n",
    "\n",
    "Is there a security flaw in this code?\n",
    "\"\"\"\n",
    "    return prompt\n",
    "\n",
    "SYSTEM_ROLE = \"You are a skilled cyber security analyst investigating source code for security flaws.\""
   ]
  },
  {
   "cell_type": "code",
   "execution_count": 5,
   "metadata": {},
   "outputs": [
    {
     "name": "stdout",
     "output_type": "stream",
     "text": [
      "String query = String.format(\"SELECT * FROM users WHERE usr='%s' AND pwd='%s'\", usr, pwd);\n",
      "Connection conn = db.getConn();\n",
      "Statement stmt = conn.createStatement();\n",
      "ResultSet rs = stmt.executeQuery(query);\n",
      "\n",
      "\n",
      "Is there a security flaw in this code?\n",
      "\n"
     ]
    }
   ],
   "source": [
    "print(get_prompt(sql_injection_1))"
   ]
  },
  {
   "cell_type": "code",
   "execution_count": 6,
   "metadata": {},
   "outputs": [
    {
     "name": "stdout",
     "output_type": "stream",
     "text": [
      "Yes, there is a security flaw in this code. The code is vulnerable to SQL injection attacks. An attacker can manipulate the values of `usr` and `pwd` to inject malicious SQL code into the query, which can lead to unauthorized access to the database or even data loss.\n",
      "\n",
      "To prevent SQL injection attacks, it is recommended to use parameterized queries or prepared statements instead of concatenating user input directly into the SQL query. This way, the user input is treated as a parameter and is not executed as part of the SQL statement.\n"
     ]
    }
   ],
   "source": [
    "print(complete_prompt(prompt=get_prompt(sql_injection_1), system_role=SYSTEM_ROLE))"
   ]
  },
  {
   "cell_type": "code",
   "execution_count": 7,
   "metadata": {},
   "outputs": [
    {
     "name": "stdout",
     "output_type": "stream",
     "text": [
      "String query = \"SELECT * FROM users WHERE usr = ? AND pwd = ?\";\n",
      "Connection conn = db.getConn();\n",
      "PreparedStatement stmt = conn.prepareStatement(query);\n",
      "stmt.setString(1, usr);\n",
      "stmt.setString(2, pwd);\n",
      "ResultSet rs = stmt.executeQuery();\n",
      "\n",
      "\n",
      "Is there a security flaw in this code?\n",
      "\n"
     ]
    }
   ],
   "source": [
    "print(get_prompt(sql_injection_2))"
   ]
  },
  {
   "cell_type": "code",
   "execution_count": 8,
   "metadata": {},
   "outputs": [
    {
     "name": "stdout",
     "output_type": "stream",
     "text": [
      "There is a potential security flaw in this code related to SQL injection attacks. The code uses a prepared statement to parameterize the user input for the \"usr\" and \"pwd\" fields, which is a good practice to prevent SQL injection attacks. However, the query itself is vulnerable to SQL injection if the \"query\" variable is constructed dynamically based on user input. \n",
      "\n",
      "For example, if the \"query\" variable is constructed like this:\n",
      "\n",
      "String query = \"SELECT * FROM users WHERE usr = '\" + usr + \"' AND pwd = '\" + pwd + \"'\";\n",
      "\n",
      "An attacker could potentially inject malicious SQL code into the \"usr\" or \"pwd\" fields, which could lead to unauthorized access or data leakage. \n",
      "\n",
      "To prevent SQL injection attacks, it is recommended to always use parameterized queries and avoid constructing SQL queries dynamically based on user input.\n"
     ]
    }
   ],
   "source": [
    "print(complete_prompt(prompt=get_prompt(sql_injection_2), system_role=SYSTEM_ROLE))"
   ]
  },
  {
   "cell_type": "code",
   "execution_count": 14,
   "metadata": {},
   "outputs": [],
   "source": [
    "buffer_overflow = \"\"\"printf(\"Enter the password:\\n\");\n",
    "gets(userPass);\n",
    "if(strncmp(userPass,PASSWORD,9)==0){\n",
    "    printf(\"PASSWORD VERIFIED\\n\");\n",
    "}\n",
    "\"\"\"\n",
    "\n",
    "def get_prompt(code_snippet: str):\n",
    "    prompt = f\"\"\"{code_snippet}\n",
    "\n",
    "Is there a security flaw in this code?\n",
    "If there is a security flaw, correct the code.\n",
    "\"\"\"\n",
    "    return prompt"
   ]
  },
  {
   "cell_type": "code",
   "execution_count": 15,
   "metadata": {},
   "outputs": [
    {
     "name": "stdout",
     "output_type": "stream",
     "text": [
      "printf(\"Enter the password:\n",
      "\");\n",
      "gets(userPass);\n",
      "if(strncmp(userPass,PASSWORD,9)==0){\n",
      "    printf(\"PASSWORD VERIFIED\n",
      "\");\n",
      "}\n",
      "\n",
      "\n",
      "Is there a security flaw in this code?\n",
      "If there is a security flaw, correct the code.\n",
      "\n"
     ]
    }
   ],
   "source": [
    "print(get_prompt(buffer_overflow))"
   ]
  },
  {
   "cell_type": "code",
   "execution_count": 8,
   "metadata": {},
   "outputs": [
    {
     "name": "stdout",
     "output_type": "stream",
     "text": [
      "Yes, there is a security flaw in this code. The `gets()` function is used to read user input, but it does not perform any bounds checking, which means that it can lead to a buffer overflow vulnerability. An attacker could input more characters than the buffer can hold, causing the program to overwrite adjacent memory locations with arbitrary data.\n",
      "\n",
      "To correct the code, we can use a safer function to read user input, such as `fgets()`, which allows us to specify the maximum number of characters to read. Here's an updated version of the code:\n",
      "\n",
      "```\n",
      "#define MAX_PASSWORD_LENGTH 20\n",
      "\n",
      "char userPass[MAX_PASSWORD_LENGTH];\n",
      "printf(\"Enter the password: \");\n",
      "fgets(userPass, MAX_PASSWORD_LENGTH, stdin);\n",
      "userPass[strcspn(userPass, \"\\n\")] = '\\0'; // remove trailing newline\n",
      "\n",
      "if(strncmp(userPass, PASSWORD, 9) == 0){\n",
      "    printf(\"PASSWORD VERIFIED\\n\");\n",
      "}\n",
      "```\n",
      "\n",
      "In this version, we define a maximum password length and use `fgets()` to read user input, limiting the number of characters that can be read. We also remove the trailing newline character from the input using `strcspn()`.\n"
     ]
    }
   ],
   "source": [
    "print(complete_prompt(prompt=get_prompt(buffer_overflow), system_role=SYSTEM_ROLE))"
   ]
  },
  {
   "attachments": {},
   "cell_type": "markdown",
   "metadata": {},
   "source": [
    "# 2. Code deobfuscation"
   ]
  },
  {
   "attachments": {},
   "cell_type": "markdown",
   "metadata": {},
   "source": [
    "Unobfuscated javascript:\n",
    "```\n",
    "    function hi() {\n",
    "      console.log(\"LLM applications in cybersecurity\");\n",
    "    }\n",
    "    hi();\n",
    "```"
   ]
  },
  {
   "cell_type": "code",
   "execution_count": 16,
   "metadata": {},
   "outputs": [],
   "source": [
    "obfuscated_javascript = \"\"\"(function(_0x3193f2,_0x572a22){var _0x597753=_0x1a77,_0x130e17=_0x3193f2();while(!![])\n",
    "{try{var _0x4eb17d=-parseInt(_0x597753(0x1c1))/0x1+-parseInt(_0x597753(0x1c6))/0x2+parseInt(_0x597753(0x1c7))\n",
    "/0x3+-parseInt(_0x597753(0x1c8))/0x4+-parseInt(_0x597753(0x1c3))/0x5*(-parseInt(_0x597753(0x1c9))/0x6)+-parseInt\n",
    "(_0x597753(0x1c5))/0x7+parseInt(_0x597753(0x1ca))/0x8;if(_0x4eb17d===_0x572a22)break;else _0x130e17['push']\n",
    "(_0x130e17['shift']());}catch(_0x4fc36c){_0x130e17['push'](_0x130e17['shift']());}}}(_0xf703,0xb021c));\n",
    "function hi(){var _0x31a856=_0x1a77;console[_0x31a856(0x1c4)](_0x31a856(0x1c2));}function _0x1a77(_0x491639,_0x3e9e40)\n",
    "{var _0xf7032c=_0xf703();return _0x1a77=function(_0x1a77d9,_0xe0d565){_0x1a77d9=_0x1a77d9-0x1c1;var _0x323731=_0xf7032c[_0x1a77d9];\n",
    "return _0x323731;},_0x1a77(_0x491639,_0x3e9e40);}hi();function _0xf703(){var _0x2e8594=['log','8620437CoWOeF','948830sbbaeL',\n",
    "'1215597vmTMHp','2635996lGMttp','12CidHbX','16850112DEjvSW','60694FTJRZG','LLM\\x20applications\\x20in\\x20cybersecurity','1588930OkiLhy']\n",
    ";_0xf703=function(){return _0x2e8594;};return _0xf703();}\"\"\""
   ]
  },
  {
   "cell_type": "code",
   "execution_count": 17,
   "metadata": {},
   "outputs": [],
   "source": [
    "def get_prompt(code_snippet: str):\n",
    "    prompt = f\"\"\"{code_snippet}\n",
    "\n",
    "What does this code output.\n",
    "\"\"\"\n",
    "    return prompt\n",
    "\n",
    "SYSTEM_ROLE = \"You are a skilled reverse engineer investigating obfuscated source code.\""
   ]
  },
  {
   "cell_type": "code",
   "execution_count": 18,
   "metadata": {},
   "outputs": [
    {
     "name": "stdout",
     "output_type": "stream",
     "text": [
      "The code outputs \"LLM applications in cybersecurity\" to the console.\n"
     ]
    }
   ],
   "source": [
    "print(complete_prompt(prompt=get_prompt(obfuscated_javascript), system_role=SYSTEM_ROLE))"
   ]
  }
 ],
 "metadata": {
  "kernelspec": {
   "display_name": "env",
   "language": "python",
   "name": "python3"
  },
  "language_info": {
   "codemirror_mode": {
    "name": "ipython",
    "version": 3
   },
   "file_extension": ".py",
   "mimetype": "text/x-python",
   "name": "python",
   "nbconvert_exporter": "python",
   "pygments_lexer": "ipython3",
   "version": "3.9.7"
  },
  "orig_nbformat": 4
 },
 "nbformat": 4,
 "nbformat_minor": 2
}
