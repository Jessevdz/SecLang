{
 "cells": [
  {
   "attachments": {},
   "cell_type": "markdown",
   "metadata": {},
   "source": [
    "### 0. Setup"
   ]
  },
  {
   "cell_type": "code",
   "execution_count": 2,
   "metadata": {},
   "outputs": [],
   "source": [
    "import openai\n",
    "import pandas as pd\n",
    "from io import StringIO\n",
    "from typing import List\n",
    "from secret_keys import OPENAI_API_KEY\n",
    "openai.api_key = OPENAI_API_KEY\n",
    "from utils import complete_prompt\n",
    "from pandas.io import json as json_pd\n",
    "PSINJECT = \"data/sample_logs/windows_privesc_empire_psinject.json\"\n",
    "MIMIKATZ = \"data/sample_logs/mimikatz_CVE-2020-1472_Unauthenticated_NetrServerAuthenticate2_2020-09-16233923.json\"\n",
    "SYSTEM_ROLE = \"You are a skilled cybersecurity incident responder hunting for threats.\""
   ]
  },
  {
   "attachments": {},
   "cell_type": "markdown",
   "metadata": {},
   "source": [
    "# 1. Detect signs of windows privilege escalation\n",
    "Logs obtained from [the mordor dataset project](https://securitydatasets.com/notebooks/atomic/windows/privilege_escalation/SDWIN-190518200432.html)"
   ]
  },
  {
   "cell_type": "code",
   "execution_count": 3,
   "metadata": {},
   "outputs": [],
   "source": [
    "def select_relevant_columns_prompt(adversary_tactic: str, df_description: str):\n",
    "    prompt = f\"\"\"Based on the data below, determine which windows event field names are most valuable for detecting {adversary_tactic}?\n",
    "    \n",
    "Markdown table showing windows event field names and the count of unique values they contain:\n",
    "{df_description}\n",
    "\n",
    "\"\"\"\n",
    "    \n",
    "    prompt += \"Format the selected field names as a list.\\n\"\n",
    "    prompt += f\"The following windows event field names are most valuable for detecting {adversary_tactic}:\"\n",
    "    return prompt\n",
    "\n",
    "def brainstorm_filters_prompt(adversary_tactic: str, column_names: str):\n",
    "    prompt = f\"\"\"pandas Dataframe column names:\n",
    "{column_names}\n",
    "\"\"\"\n",
    "\n",
    "    prompt += f\"\"\"\n",
    "- Create 10 diverse, and highly effective pandas DataFrame filters that find indications of {adversary_tactic}\n",
    "- Use only the pandas Dataframe columns names listed above to create the filters.\n",
    "- The filters are applied to a pandas DataFrame named 'df'. \n",
    "- The resulting pandas DataFrame is also named 'df'.\n",
    "\n",
    "Filters:\n",
    "    \"\"\"\n",
    "    return prompt\n",
    "\n",
    "def format_filters_prompt(filters_response: str):\n",
    "    prompt = f\"\"\"{filters_response}\n",
    "    \n",
    "Show only executable python code.\n",
    "Show no numbers.\n",
    "Show one python statement per line.\n",
    "Python statements:\n",
    "    \"\"\"\n",
    "    return prompt\n",
    "\n",
    "TACTIC = \"Windows privilege escalation\""
   ]
  },
  {
   "cell_type": "code",
   "execution_count": 4,
   "metadata": {},
   "outputs": [
    {
     "data": {
      "text/html": [
       "<div>\n",
       "<style scoped>\n",
       "    .dataframe tbody tr th:only-of-type {\n",
       "        vertical-align: middle;\n",
       "    }\n",
       "\n",
       "    .dataframe tbody tr th {\n",
       "        vertical-align: top;\n",
       "    }\n",
       "\n",
       "    .dataframe thead th {\n",
       "        text-align: right;\n",
       "    }\n",
       "</style>\n",
       "<table border=\"1\" class=\"dataframe\">\n",
       "  <thead>\n",
       "    <tr style=\"text-align: right;\">\n",
       "      <th></th>\n",
       "      <th>@version</th>\n",
       "      <th>EventType</th>\n",
       "      <th>ThreadID</th>\n",
       "      <th>EventTime</th>\n",
       "      <th>Task</th>\n",
       "      <th>Channel</th>\n",
       "      <th>SourceName</th>\n",
       "      <th>Opcode</th>\n",
       "      <th>Hostname</th>\n",
       "      <th>@timestamp</th>\n",
       "      <th>...</th>\n",
       "      <th>param1</th>\n",
       "      <th>param2</th>\n",
       "      <th>MessageTotal</th>\n",
       "      <th>ScriptBlockText</th>\n",
       "      <th>ScriptBlockId</th>\n",
       "      <th>MessageNumber</th>\n",
       "      <th>Device</th>\n",
       "      <th>ShareLocalPath</th>\n",
       "      <th>ShareName</th>\n",
       "      <th>RelativeTargetName</th>\n",
       "    </tr>\n",
       "  </thead>\n",
       "  <tbody>\n",
       "    <tr>\n",
       "      <th>0</th>\n",
       "      <td>1</td>\n",
       "      <td>INFO</td>\n",
       "      <td>0</td>\n",
       "      <td>2020-08-07 14:32:07</td>\n",
       "      <td>8</td>\n",
       "      <td>Windows PowerShell</td>\n",
       "      <td>PowerShell</td>\n",
       "      <td>Info</td>\n",
       "      <td>WORKSTATION5.theshire.local</td>\n",
       "      <td>2020-08-07T18:32:07.555Z</td>\n",
       "      <td>...</td>\n",
       "      <td>NaN</td>\n",
       "      <td>NaN</td>\n",
       "      <td>NaN</td>\n",
       "      <td>NaN</td>\n",
       "      <td>NaN</td>\n",
       "      <td>NaN</td>\n",
       "      <td>NaN</td>\n",
       "      <td>NaN</td>\n",
       "      <td>NaN</td>\n",
       "      <td>NaN</td>\n",
       "    </tr>\n",
       "    <tr>\n",
       "      <th>1</th>\n",
       "      <td>1</td>\n",
       "      <td>INFO</td>\n",
       "      <td>0</td>\n",
       "      <td>2020-08-07 14:32:07</td>\n",
       "      <td>8</td>\n",
       "      <td>Windows PowerShell</td>\n",
       "      <td>PowerShell</td>\n",
       "      <td>Info</td>\n",
       "      <td>WORKSTATION5.theshire.local</td>\n",
       "      <td>2020-08-07T18:32:07.555Z</td>\n",
       "      <td>...</td>\n",
       "      <td>NaN</td>\n",
       "      <td>NaN</td>\n",
       "      <td>NaN</td>\n",
       "      <td>NaN</td>\n",
       "      <td>NaN</td>\n",
       "      <td>NaN</td>\n",
       "      <td>NaN</td>\n",
       "      <td>NaN</td>\n",
       "      <td>NaN</td>\n",
       "      <td>NaN</td>\n",
       "    </tr>\n",
       "    <tr>\n",
       "      <th>2</th>\n",
       "      <td>1</td>\n",
       "      <td>INFO</td>\n",
       "      <td>7324</td>\n",
       "      <td>2020-08-07 14:32:07</td>\n",
       "      <td>106</td>\n",
       "      <td>Microsoft-Windows-PowerShell/Operational</td>\n",
       "      <td>Microsoft-Windows-PowerShell</td>\n",
       "      <td>To be used when operation is just executing a ...</td>\n",
       "      <td>WORKSTATION5.theshire.local</td>\n",
       "      <td>2020-08-07T18:32:07.556Z</td>\n",
       "      <td>...</td>\n",
       "      <td>NaN</td>\n",
       "      <td>NaN</td>\n",
       "      <td>NaN</td>\n",
       "      <td>NaN</td>\n",
       "      <td>NaN</td>\n",
       "      <td>NaN</td>\n",
       "      <td>NaN</td>\n",
       "      <td>NaN</td>\n",
       "      <td>NaN</td>\n",
       "      <td>NaN</td>\n",
       "    </tr>\n",
       "  </tbody>\n",
       "</table>\n",
       "<p>3 rows × 170 columns</p>\n",
       "</div>"
      ],
      "text/plain": [
       "   @version EventType  ThreadID            EventTime  Task   \n",
       "0         1      INFO         0  2020-08-07 14:32:07     8  \\\n",
       "1         1      INFO         0  2020-08-07 14:32:07     8   \n",
       "2         1      INFO      7324  2020-08-07 14:32:07   106   \n",
       "\n",
       "                                    Channel                    SourceName   \n",
       "0                        Windows PowerShell                    PowerShell  \\\n",
       "1                        Windows PowerShell                    PowerShell   \n",
       "2  Microsoft-Windows-PowerShell/Operational  Microsoft-Windows-PowerShell   \n",
       "\n",
       "                                              Opcode   \n",
       "0                                               Info  \\\n",
       "1                                               Info   \n",
       "2  To be used when operation is just executing a ...   \n",
       "\n",
       "                      Hostname                @timestamp  ... param1 param2   \n",
       "0  WORKSTATION5.theshire.local  2020-08-07T18:32:07.555Z  ...    NaN    NaN  \\\n",
       "1  WORKSTATION5.theshire.local  2020-08-07T18:32:07.555Z  ...    NaN    NaN   \n",
       "2  WORKSTATION5.theshire.local  2020-08-07T18:32:07.556Z  ...    NaN    NaN   \n",
       "\n",
       "  MessageTotal ScriptBlockText  ScriptBlockId  MessageNumber Device   \n",
       "0          NaN             NaN            NaN            NaN    NaN  \\\n",
       "1          NaN             NaN            NaN            NaN    NaN   \n",
       "2          NaN             NaN            NaN            NaN    NaN   \n",
       "\n",
       "  ShareLocalPath  ShareName  RelativeTargetName  \n",
       "0            NaN        NaN                 NaN  \n",
       "1            NaN        NaN                 NaN  \n",
       "2            NaN        NaN                 NaN  \n",
       "\n",
       "[3 rows x 170 columns]"
      ]
     },
     "execution_count": 4,
     "metadata": {},
     "output_type": "execute_result"
    }
   ],
   "source": [
    "df = json_pd.read_json(path_or_buf=PSINJECT, lines=True)\n",
    "df.iloc[:3]"
   ]
  },
  {
   "cell_type": "code",
   "execution_count": 87,
   "metadata": {},
   "outputs": [],
   "source": [
    "df_description = df.describe(include=\"all\").iloc[[0]].to_markdown()"
   ]
  },
  {
   "attachments": {},
   "cell_type": "markdown",
   "metadata": {},
   "source": [
    "Find most important column names"
   ]
  },
  {
   "cell_type": "code",
   "execution_count": 88,
   "metadata": {},
   "outputs": [
    {
     "name": "stdout",
     "output_type": "stream",
     "text": [
      "Based on the data below, determine which windows event field names are most valuable for detecting Windows privilege escalation?\n",
      "    \n",
      "Markdown table showing windows event field names and the count of unique values they contain:\n",
      "|       |   @version |   EventType |   ThreadID |   EventTime |   Task |   Channel |   SourceName |   Opcode |   Hostname |   @timestamp |   Message |   Category |   SourceModuleName |   EventReceivedTime |   port |   ExecutionProcessID |   host |   Severity |   SeverityValue |   EventID |   RecordNumber |   SourceModuleType |   Keywords |   tags |   Version |   AccountType |   OpcodeValue |   AccountName |   ContextInfo |   Payload |   Domain |   ActivityID |   UserID |   ProviderGuid |   SourcePort |   ProcessId |   Application |   LayerRTID |   LayerName |   SourceAddress |   FilterRTID |   Protocol |   EventTypeOrignal |   UtcTime |   TargetObject |   Image |   ProcessGuid |   RuleName |   DestAddress |   Direction |   RemoteMachineID |   DestPort |   RemoteUserID |   DestinationPortName |   DestinationIp |   SourceIp |   Initiated |   DestinationHostname |   SourceHostname |   DestinationPort |   SourceIsIpv6 |   User |   DestinationIsIpv6 |   SourcePortName |   TargetProcessGUID |   SourceProcessGUID |   CallTrace |   SourceImage |   GrantedAccess |   SourceProcessId |   SourceThreadId |   TargetProcessId |   TargetImage |   TargetDomainName |   TargetUserSid |   TargetLogonId |   TargetUserName |   LogonType |   PipeName |   OriginalFileName |   Signed |   SignatureStatus |   FileVersion |   Company |   Signature |   ImageLoaded |   Hashes |   Description |   Product |   TargetFilename |   CreationUtcTime |   SubjectLogonId |   SubjectDomainName |   ProcessName |   SubjectUserSid |   SubjectUserName |   Status |   PrivilegeList |   ElevatedToken |   TargetOutboundDomainName |   IpPort |   ImpersonationLevel |   KeyLength |   TargetOutboundUserName |   RestrictedAdminMode |   LogonProcessName |   LogonGuid |   WorkstationName |   TargetLinkedLogonId |   TransmittedServices |   IpAddress |   LmPackageName |   AuthenticationPackageName |   VirtualAccount |   GroupMembership |   EventIdx |   EventCountTotal |   SourceHandleId |   TargetHandleId |   ObjectServer |   HandleId |   ObjectName |   ObjectType |   AccessMask |   AccessList |   ResourceAttributes |   TransactionId |   AccessReason |   RestrictedSidCount |   TargetProcessGuid |   SourceProcessGuid |   StartAddress |   StartModule |   StartFunction |   NewThreadId |   IsExecutable |   Archived |   Service |   Details |   ParentCommandLine |   ParentProcessId |   CurrentDirectory |   IntegrityLevel |   CommandLine |   ParentImage |   LogonId |   TerminalSessionId |   ParentProcessGuid |   EnabledPrivilegeList |   DisabledPrivilegeList |   NewSd |   OldSd |   NewProcessName |   NewProcessId |   TokenElevationType |   MandatoryLabel |   ParentProcessName |   QueryResults |   QueryName |   QueryStatus |   param1 |   param2 |   MessageTotal |   ScriptBlockText |   ScriptBlockId |   MessageNumber |   Device |   ShareLocalPath |   ShareName |   RelativeTargetName |\n",
      "|:------|-----------:|------------:|-----------:|------------:|-------:|----------:|-------------:|---------:|-----------:|-------------:|----------:|-----------:|-------------------:|--------------------:|-------:|---------------------:|-------:|-----------:|----------------:|----------:|---------------:|-------------------:|-----------:|-------:|----------:|--------------:|--------------:|--------------:|--------------:|----------:|---------:|-------------:|---------:|---------------:|-------------:|------------:|--------------:|------------:|------------:|----------------:|-------------:|-----------:|-------------------:|----------:|---------------:|--------:|--------------:|-----------:|--------------:|------------:|------------------:|-----------:|---------------:|----------------------:|----------------:|-----------:|------------:|----------------------:|-----------------:|------------------:|---------------:|-------:|--------------------:|-----------------:|--------------------:|--------------------:|------------:|--------------:|----------------:|------------------:|-----------------:|------------------:|--------------:|-------------------:|----------------:|----------------:|-----------------:|------------:|-----------:|-------------------:|---------:|------------------:|--------------:|----------:|------------:|--------------:|---------:|--------------:|----------:|-----------------:|------------------:|-----------------:|--------------------:|--------------:|-----------------:|------------------:|---------:|----------------:|----------------:|---------------------------:|---------:|---------------------:|------------:|-------------------------:|----------------------:|-------------------:|------------:|------------------:|----------------------:|----------------------:|------------:|----------------:|----------------------------:|-----------------:|------------------:|-----------:|------------------:|-----------------:|-----------------:|---------------:|-----------:|-------------:|-------------:|-------------:|-------------:|---------------------:|----------------:|---------------:|---------------------:|--------------------:|--------------------:|---------------:|--------------:|----------------:|--------------:|---------------:|-----------:|----------:|----------:|--------------------:|------------------:|-------------------:|-----------------:|--------------:|--------------:|----------:|--------------------:|--------------------:|-----------------------:|------------------------:|--------:|--------:|-----------------:|---------------:|---------------------:|-----------------:|--------------------:|---------------:|------------:|--------------:|---------:|---------:|---------------:|------------------:|----------------:|----------------:|---------:|-----------------:|------------:|---------------------:|\n",
      "| count |       5898 |        5898 |       5898 |        5898 |   5898 |      5898 |         5898 |     4733 |       5898 |         5898 |      5898 |       4732 |               5898 |                5898 |   5898 |                 5898 |   5898 |       5898 |            5898 |      5898 |           5898 |               5898 |       5898 |   5898 |      3820 |          3175 |          3820 |          3175 |          1966 |      1966 |     3175 |         2015 |     3175 |           3820 |          485 |        1783 |           389 |         389 |         389 |             389 |          389 |        485 |                224 |      1165 |            217 |     516 |           516 |       1165 |           188 |         188 |               188 |        188 |            188 |                    96 |              96 |         96 |          96 |                    96 |               96 |                96 |             96 |     99 |                  96 |               96 |                 561 |                 561 |         561 |           649 |             561 |               691 |              561 |               691 |           649 |                 42 |              42 |              42 |               42 |          24 |          7 |                174 |      173 |               173 |           174 |       174 |         173 |           173 |      176 |           170 |       174 |               12 |                10 |              248 |                 248 |           186 |              248 |               248 |        7 |              55 |               8 |                          8 |       11 |                    8 |           8 |                        8 |                     8 |                  8 |           9 |                 8 |                     8 |                     8 |          11 |               8 |                           8 |                8 |                 8 |          8 |                 8 |               42 |               42 |            154 |        152 |           68 |           71 |           70 |           70 |                   67 |              45 |             47 |                   45 |                  88 |                  88 |             88 |            88 |              88 |            88 |              2 |          2 |         2 |        46 |                   1 |                 1 |                  1 |                1 |             2 |             1 |         1 |                   1 |                   1 |                     17 |                      17 |       1 |       1 |                1 |              1 |                    1 |                1 |                   1 |              1 |           1 |             1 |        1 |        1 |              1 |                 1 |               1 |               1 |        2 |                3 |           3 |                    2 |\n",
      "\n",
      "Format the selected field names as a list.\n",
      "The following windows event field names are most valuable for detecting Windows privilege escalation:\n"
     ]
    }
   ],
   "source": [
    "columns_prompt = select_relevant_columns_prompt(adversary_tactic=TACTIC, df_description=df_description)\n",
    "print(columns_prompt)"
   ]
  },
  {
   "cell_type": "code",
   "execution_count": 89,
   "metadata": {},
   "outputs": [
    {
     "name": "stdout",
     "output_type": "stream",
     "text": [
      "- AccountType\n",
      "- AccountName\n",
      "- Domain\n",
      "- EventID\n",
      "- EventType\n",
      "- LogonType\n",
      "- NewProcessName\n",
      "- ParentProcessName\n",
      "- ProcessId\n",
      "- SourceImage\n",
      "- TargetImage\n",
      "- TargetProcessGUID\n",
      "- TargetUserSid\n",
      "- UserID\n"
     ]
    }
   ],
   "source": [
    "columns_response = complete_prompt(columns_prompt, system_role=SYSTEM_ROLE, temperature = 0)\n",
    "print(columns_response)"
   ]
  },
  {
   "cell_type": "code",
   "execution_count": 90,
   "metadata": {},
   "outputs": [
    {
     "name": "stdout",
     "output_type": "stream",
     "text": [
      "pandas Dataframe column names:\n",
      "- AccountType\n",
      "- AccountName\n",
      "- Domain\n",
      "- EventID\n",
      "- EventType\n",
      "- LogonType\n",
      "- NewProcessName\n",
      "- ParentProcessName\n",
      "- ProcessId\n",
      "- SourceImage\n",
      "- TargetImage\n",
      "- TargetProcessGUID\n",
      "- TargetUserSid\n",
      "- UserID\n",
      "\n",
      "- Create 10 diverse, and highly effective pandas DataFrame filters that find indications of Windows privilege escalation\n",
      "- Use only the pandas Dataframe columns names listed above to create the filters.\n",
      "- The filters are applied to a pandas DataFrame named 'df'. \n",
      "- The resulting pandas DataFrame is also named 'df'.\n",
      "\n",
      "Filters:\n",
      "    \n"
     ]
    }
   ],
   "source": [
    "filters_prompt = brainstorm_filters_prompt(adversary_tactic=TACTIC, column_names=columns_response)\n",
    "print(filters_prompt)"
   ]
  },
  {
   "cell_type": "code",
   "execution_count": 95,
   "metadata": {},
   "outputs": [
    {
     "name": "stdout",
     "output_type": "stream",
     "text": [
      "1. df = df[df['EventType'].str.contains('Privilege Escalation')]\n",
      "2. df = df[df['LogonType'].isin(['3', '4', '5', '7', '8', '9', '10', '11'])]\n",
      "3. df = df[df['NewProcessName'].str.contains('cmd.exe|powershell.exe', regex=True)]\n",
      "4. df = df[df['ParentProcessName'].str.contains('explorer.exe', regex=True)]\n",
      "5. df = df[df['ProcessId'].isin(['0', '4', '8', '12', '16', '20', '24', '28', '32', '36'])]\n",
      "6. df = df[df['SourceImage'].str.contains('mimikatz.exe', regex=True)]\n",
      "7. df = df[df['TargetImage'].str.contains('lsass.exe', regex=True)]\n",
      "8. df = df[df['TargetProcessGUID'].notnull()]\n",
      "9. df = df[df['TargetUserSid'].str.contains('S-1-5-21', regex=True)]\n",
      "10. df = df[df['UserID'].str.contains('S-1-5-21', regex=True)]\n"
     ]
    }
   ],
   "source": [
    "filters_response = complete_prompt(filters_prompt, system_role=SYSTEM_ROLE, temperature=0.12)\n",
    "print(filters_response)"
   ]
  },
  {
   "cell_type": "code",
   "execution_count": 96,
   "metadata": {},
   "outputs": [
    {
     "name": "stdout",
     "output_type": "stream",
     "text": [
      "df = df[df['EventType'].str.contains('Privilege Escalation')]\n",
      "df = df[df['LogonType'].isin(['3', '4', '5', '7', '8', '9', '10', '11'])]\n",
      "df = df[df['NewProcessName'].str.contains('cmd.exe|powershell.exe', regex=True)]\n",
      "df = df[df['ParentProcessName'].str.contains('explorer.exe', regex=True)]\n",
      "df = df[df['ProcessId'].isin(['0', '4', '8', '12', '16', '20', '24', '28', '32', '36'])]\n",
      "df = df[df['SourceImage'].str.contains('mimikatz.exe', regex=True)]\n",
      "df = df[df['TargetImage'].str.contains('lsass.exe', regex=True)]\n",
      "df = df[df['TargetProcessGUID'].notnull()]\n",
      "df = df[df['TargetUserSid'].str.contains('S-1-5-21', regex=True)]\n",
      "df = df[df['UserID'].str.contains('S-1-5-21', regex=True)]\n"
     ]
    }
   ],
   "source": [
    "format_prompt = format_filters_prompt(filters_response)\n",
    "formatted_response = complete_prompt(format_prompt, system_role=SYSTEM_ROLE, temperature=0)\n",
    "print(formatted_response)"
   ]
  },
  {
   "cell_type": "code",
   "execution_count": 97,
   "metadata": {},
   "outputs": [],
   "source": [
    "resulting_logs_size = []\n",
    "dfs = []\n",
    "for filter_command in formatted_response.split(\"\\n\"):\n",
    "    filter_command = filter_command.replace(\"`\",\"\")\n",
    "    filter_command = filter_command.replace('\"',\"\")\n",
    "    filter_command = filter_command.strip()\n",
    "    df = json_pd.read_json(path_or_buf=PSINJECT, lines=True)\n",
    "    df.fillna('', inplace=True)\n",
    "    try:\n",
    "        exec(filter_command)\n",
    "        resulting_logs_size.append(df.shape[0])\n",
    "        if 0 < df.shape[0] < 50:\n",
    "            dfs.append(df)\n",
    "    except:\n",
    "        print(\"filter failed\")\n",
    "        resulting_logs_size.append(None)"
   ]
  },
  {
   "cell_type": "code",
   "execution_count": 98,
   "metadata": {},
   "outputs": [
    {
     "data": {
      "text/plain": [
       "[0, 0, 0, 0, 5, 0, 2, 5898, 0, 2009]"
      ]
     },
     "execution_count": 98,
     "metadata": {},
     "output_type": "execute_result"
    }
   ],
   "source": [
    "resulting_logs_size"
   ]
  },
  {
   "cell_type": "code",
   "execution_count": 99,
   "metadata": {},
   "outputs": [
    {
     "data": {
      "text/plain": [
       "2"
      ]
     },
     "execution_count": 99,
     "metadata": {},
     "output_type": "execute_result"
    }
   ],
   "source": [
    "len(dfs)"
   ]
  },
  {
   "cell_type": "code",
   "execution_count": 80,
   "metadata": {},
   "outputs": [],
   "source": [
    "def format_messages_as_str(messages: List[str]):\n",
    "    messages_str = \"\"\n",
    "    for message in messages:\n",
    "        message = message.strip().replace(\"\\t\", \"\").replace(\"\\r\\n\", \"\")\n",
    "        messages_str += f\"- {message} \\n\"\n",
    "    return messages_str\n",
    "\n",
    "def get_summarize_prompt(messages: str, adversary_tactic: str):\n",
    "    prompt = f\"\"\"You are analyzing windows event logs for signs of {adversary_tactic}.\n",
    "\n",
    "The following event messages happen in chronological order:\n",
    "{messages}\n",
    "\n",
    "Are there indications of {adversary_tactic} apparent in the logs?\n",
    "\"\"\"\n",
    "    return prompt"
   ]
  },
  {
   "cell_type": "code",
   "execution_count": 100,
   "metadata": {},
   "outputs": [
    {
     "data": {
      "text/html": [
       "<div>\n",
       "<style scoped>\n",
       "    .dataframe tbody tr th:only-of-type {\n",
       "        vertical-align: middle;\n",
       "    }\n",
       "\n",
       "    .dataframe tbody tr th {\n",
       "        vertical-align: top;\n",
       "    }\n",
       "\n",
       "    .dataframe thead th {\n",
       "        text-align: right;\n",
       "    }\n",
       "</style>\n",
       "<table border=\"1\" class=\"dataframe\">\n",
       "  <thead>\n",
       "    <tr style=\"text-align: right;\">\n",
       "      <th></th>\n",
       "      <th>@version</th>\n",
       "      <th>EventType</th>\n",
       "      <th>ThreadID</th>\n",
       "      <th>EventTime</th>\n",
       "      <th>Task</th>\n",
       "      <th>Channel</th>\n",
       "      <th>SourceName</th>\n",
       "      <th>Opcode</th>\n",
       "      <th>Hostname</th>\n",
       "      <th>@timestamp</th>\n",
       "      <th>...</th>\n",
       "      <th>param1</th>\n",
       "      <th>param2</th>\n",
       "      <th>MessageTotal</th>\n",
       "      <th>ScriptBlockText</th>\n",
       "      <th>ScriptBlockId</th>\n",
       "      <th>MessageNumber</th>\n",
       "      <th>Device</th>\n",
       "      <th>ShareLocalPath</th>\n",
       "      <th>ShareName</th>\n",
       "      <th>RelativeTargetName</th>\n",
       "    </tr>\n",
       "  </thead>\n",
       "  <tbody>\n",
       "    <tr>\n",
       "      <th>4699</th>\n",
       "      <td>1</td>\n",
       "      <td>AUDIT_SUCCESS</td>\n",
       "      <td>96</td>\n",
       "      <td>2020-08-07 14:32:53</td>\n",
       "      <td>12810</td>\n",
       "      <td>Security</td>\n",
       "      <td>Microsoft-Windows-Security-Auditing</td>\n",
       "      <td>Info</td>\n",
       "      <td>MORDORDC.theshire.local</td>\n",
       "      <td>2020-08-07T18:33:08.046Z</td>\n",
       "      <td>...</td>\n",
       "      <td></td>\n",
       "      <td></td>\n",
       "      <td></td>\n",
       "      <td></td>\n",
       "      <td></td>\n",
       "      <td></td>\n",
       "      <td></td>\n",
       "      <td></td>\n",
       "      <td></td>\n",
       "      <td></td>\n",
       "    </tr>\n",
       "    <tr>\n",
       "      <th>4701</th>\n",
       "      <td>1</td>\n",
       "      <td>AUDIT_SUCCESS</td>\n",
       "      <td>96</td>\n",
       "      <td>2020-08-07 14:32:53</td>\n",
       "      <td>12810</td>\n",
       "      <td>Security</td>\n",
       "      <td>Microsoft-Windows-Security-Auditing</td>\n",
       "      <td>Info</td>\n",
       "      <td>MORDORDC.theshire.local</td>\n",
       "      <td>2020-08-07T18:33:08.046Z</td>\n",
       "      <td>...</td>\n",
       "      <td></td>\n",
       "      <td></td>\n",
       "      <td></td>\n",
       "      <td></td>\n",
       "      <td></td>\n",
       "      <td></td>\n",
       "      <td></td>\n",
       "      <td></td>\n",
       "      <td></td>\n",
       "      <td></td>\n",
       "    </tr>\n",
       "    <tr>\n",
       "      <th>4702</th>\n",
       "      <td>1</td>\n",
       "      <td>AUDIT_SUCCESS</td>\n",
       "      <td>96</td>\n",
       "      <td>2020-08-07 14:32:53</td>\n",
       "      <td>12810</td>\n",
       "      <td>Security</td>\n",
       "      <td>Microsoft-Windows-Security-Auditing</td>\n",
       "      <td>Info</td>\n",
       "      <td>MORDORDC.theshire.local</td>\n",
       "      <td>2020-08-07T18:33:08.046Z</td>\n",
       "      <td>...</td>\n",
       "      <td></td>\n",
       "      <td></td>\n",
       "      <td></td>\n",
       "      <td></td>\n",
       "      <td></td>\n",
       "      <td></td>\n",
       "      <td></td>\n",
       "      <td></td>\n",
       "      <td></td>\n",
       "      <td></td>\n",
       "    </tr>\n",
       "    <tr>\n",
       "      <th>4756</th>\n",
       "      <td>1</td>\n",
       "      <td>INFO</td>\n",
       "      <td>4204</td>\n",
       "      <td>2020-08-07 14:32:55</td>\n",
       "      <td>3</td>\n",
       "      <td>Microsoft-Windows-Sysmon/Operational</td>\n",
       "      <td>Microsoft-Windows-Sysmon</td>\n",
       "      <td></td>\n",
       "      <td>MORDORDC.theshire.local</td>\n",
       "      <td>2020-08-07T18:33:09.830Z</td>\n",
       "      <td>...</td>\n",
       "      <td></td>\n",
       "      <td></td>\n",
       "      <td></td>\n",
       "      <td></td>\n",
       "      <td></td>\n",
       "      <td></td>\n",
       "      <td></td>\n",
       "      <td></td>\n",
       "      <td></td>\n",
       "      <td></td>\n",
       "    </tr>\n",
       "    <tr>\n",
       "      <th>4757</th>\n",
       "      <td>1</td>\n",
       "      <td>INFO</td>\n",
       "      <td>4204</td>\n",
       "      <td>2020-08-07 14:32:55</td>\n",
       "      <td>3</td>\n",
       "      <td>Microsoft-Windows-Sysmon/Operational</td>\n",
       "      <td>Microsoft-Windows-Sysmon</td>\n",
       "      <td></td>\n",
       "      <td>MORDORDC.theshire.local</td>\n",
       "      <td>2020-08-07T18:33:09.830Z</td>\n",
       "      <td>...</td>\n",
       "      <td></td>\n",
       "      <td></td>\n",
       "      <td></td>\n",
       "      <td></td>\n",
       "      <td></td>\n",
       "      <td></td>\n",
       "      <td></td>\n",
       "      <td></td>\n",
       "      <td></td>\n",
       "      <td></td>\n",
       "    </tr>\n",
       "    <tr>\n",
       "      <th>2269</th>\n",
       "      <td>1</td>\n",
       "      <td>INFO</td>\n",
       "      <td>4364</td>\n",
       "      <td>2020-08-07 14:32:46</td>\n",
       "      <td>10</td>\n",
       "      <td>Microsoft-Windows-Sysmon/Operational</td>\n",
       "      <td>Microsoft-Windows-Sysmon</td>\n",
       "      <td></td>\n",
       "      <td>WORKSTATION5.theshire.local</td>\n",
       "      <td>2020-08-07T18:32:49.308Z</td>\n",
       "      <td>...</td>\n",
       "      <td></td>\n",
       "      <td></td>\n",
       "      <td></td>\n",
       "      <td></td>\n",
       "      <td></td>\n",
       "      <td></td>\n",
       "      <td></td>\n",
       "      <td></td>\n",
       "      <td></td>\n",
       "      <td></td>\n",
       "    </tr>\n",
       "    <tr>\n",
       "      <th>2272</th>\n",
       "      <td>1</td>\n",
       "      <td>INFO</td>\n",
       "      <td>4364</td>\n",
       "      <td>2020-08-07 14:32:46</td>\n",
       "      <td>10</td>\n",
       "      <td>Microsoft-Windows-Sysmon/Operational</td>\n",
       "      <td>Microsoft-Windows-Sysmon</td>\n",
       "      <td></td>\n",
       "      <td>WORKSTATION5.theshire.local</td>\n",
       "      <td>2020-08-07T18:32:49.310Z</td>\n",
       "      <td>...</td>\n",
       "      <td></td>\n",
       "      <td></td>\n",
       "      <td></td>\n",
       "      <td></td>\n",
       "      <td></td>\n",
       "      <td></td>\n",
       "      <td></td>\n",
       "      <td></td>\n",
       "      <td></td>\n",
       "      <td></td>\n",
       "    </tr>\n",
       "  </tbody>\n",
       "</table>\n",
       "<p>7 rows × 170 columns</p>\n",
       "</div>"
      ],
      "text/plain": [
       "      @version      EventType  ThreadID            EventTime   Task   \n",
       "4699         1  AUDIT_SUCCESS        96  2020-08-07 14:32:53  12810  \\\n",
       "4701         1  AUDIT_SUCCESS        96  2020-08-07 14:32:53  12810   \n",
       "4702         1  AUDIT_SUCCESS        96  2020-08-07 14:32:53  12810   \n",
       "4756         1           INFO      4204  2020-08-07 14:32:55      3   \n",
       "4757         1           INFO      4204  2020-08-07 14:32:55      3   \n",
       "2269         1           INFO      4364  2020-08-07 14:32:46     10   \n",
       "2272         1           INFO      4364  2020-08-07 14:32:46     10   \n",
       "\n",
       "                                   Channel   \n",
       "4699                              Security  \\\n",
       "4701                              Security   \n",
       "4702                              Security   \n",
       "4756  Microsoft-Windows-Sysmon/Operational   \n",
       "4757  Microsoft-Windows-Sysmon/Operational   \n",
       "2269  Microsoft-Windows-Sysmon/Operational   \n",
       "2272  Microsoft-Windows-Sysmon/Operational   \n",
       "\n",
       "                               SourceName Opcode                     Hostname   \n",
       "4699  Microsoft-Windows-Security-Auditing   Info      MORDORDC.theshire.local  \\\n",
       "4701  Microsoft-Windows-Security-Auditing   Info      MORDORDC.theshire.local   \n",
       "4702  Microsoft-Windows-Security-Auditing   Info      MORDORDC.theshire.local   \n",
       "4756             Microsoft-Windows-Sysmon             MORDORDC.theshire.local   \n",
       "4757             Microsoft-Windows-Sysmon             MORDORDC.theshire.local   \n",
       "2269             Microsoft-Windows-Sysmon         WORKSTATION5.theshire.local   \n",
       "2272             Microsoft-Windows-Sysmon         WORKSTATION5.theshire.local   \n",
       "\n",
       "                    @timestamp  ... param1 param2 MessageTotal   \n",
       "4699  2020-08-07T18:33:08.046Z  ...                             \\\n",
       "4701  2020-08-07T18:33:08.046Z  ...                              \n",
       "4702  2020-08-07T18:33:08.046Z  ...                              \n",
       "4756  2020-08-07T18:33:09.830Z  ...                              \n",
       "4757  2020-08-07T18:33:09.830Z  ...                              \n",
       "2269  2020-08-07T18:32:49.308Z  ...                              \n",
       "2272  2020-08-07T18:32:49.310Z  ...                              \n",
       "\n",
       "     ScriptBlockText  ScriptBlockId  MessageNumber Device ShareLocalPath   \n",
       "4699                                                                      \\\n",
       "4701                                                                       \n",
       "4702                                                                       \n",
       "4756                                                                       \n",
       "4757                                                                       \n",
       "2269                                                                       \n",
       "2272                                                                       \n",
       "\n",
       "      ShareName  RelativeTargetName  \n",
       "4699                                 \n",
       "4701                                 \n",
       "4702                                 \n",
       "4756                                 \n",
       "4757                                 \n",
       "2269                                 \n",
       "2272                                 \n",
       "\n",
       "[7 rows x 170 columns]"
      ]
     },
     "execution_count": 100,
     "metadata": {},
     "output_type": "execute_result"
    }
   ],
   "source": [
    "df = pd.concat(dfs)\n",
    "df"
   ]
  },
  {
   "cell_type": "code",
   "execution_count": 101,
   "metadata": {},
   "outputs": [],
   "source": [
    "messages = df[\"Message\"].to_list()\n",
    "messages_str = format_messages_as_str(messages)"
   ]
  },
  {
   "cell_type": "code",
   "execution_count": 102,
   "metadata": {},
   "outputs": [
    {
     "name": "stdout",
     "output_type": "stream",
     "text": [
      "You are analyzing windows event logs for signs of Windows privilege escalation.\n",
      "\n",
      "The following event messages happen in chronological order:\n",
      "- The Windows Filtering Platform has permitted a bind to a local port.Application Information:Process ID:4Application Name:SystemNetwork Information:Source Address:::Source Port:56259Protocol:6Filter Information:Filter Run-Time ID:0Layer Name:Resource AssignmentLayer Run-Time ID:38 \n",
      "- The Windows Filtering Platform has permitted a connection.Application Information:Process ID:4Application Name:SystemNetwork Information:Direction:OutboundSource Address:fe80::3816:b2ee:1b9b:324bSource Port:56259Destination Address:fe80::3816:b2ee:1b9b:324bDestination Port:445Protocol:6Filter Information:Filter Run-Time ID:65853Layer Name:ConnectLayer Run-Time ID:50 \n",
      "- The Windows Filtering Platform has permitted a connection.Application Information:Process ID:4Application Name:SystemNetwork Information:Direction:InboundSource Address:fe80::3816:b2ee:1b9b:324bSource Port:56259Destination Address:fe80::3816:b2ee:1b9b:324bDestination Port:445Protocol:6Filter Information:Filter Run-Time ID:65851Layer Name:Receive/AcceptLayer Run-Time ID:46 \n",
      "- Network connection detected:RuleName: -UtcTime: 2020-08-07 18:32:44.978ProcessGuid: {9f85ce58-59d1-5f2b-0100-000000000400}ProcessId: 4Image: SystemUser: NT AUTHORITY\\SYSTEMProtocol: tcpInitiated: trueSourceIsIpv6: trueSourceIp: fe80:0:0:0:3816:b2ee:1b9b:324bSourceHostname: -SourcePort: 56259SourcePortName: -DestinationIsIpv6: trueDestinationIp: fe80:0:0:0:3816:b2ee:1b9b:324bDestinationHostname: -DestinationPort: 445DestinationPortName: - \n",
      "- Network connection detected:RuleName: -UtcTime: 2020-08-07 18:32:44.978ProcessGuid: {9f85ce58-59d1-5f2b-0100-000000000400}ProcessId: 4Image: SystemUser: NT AUTHORITY\\SYSTEMProtocol: tcpInitiated: falseSourceIsIpv6: trueSourceIp: fe80:0:0:0:3816:b2ee:1b9b:324bSourceHostname: -SourcePort: 56259SourcePortName: -DestinationIsIpv6: trueDestinationIp: fe80:0:0:0:3816:b2ee:1b9b:324bDestinationHostname: -DestinationPort: 445DestinationPortName: - \n",
      "- Process accessed:RuleName: -UtcTime: 2020-08-07 18:32:46.908SourceProcessGUID: {297bc33e-5c2f-5f2b-1200-000000000400}SourceProcessId: 452SourceThreadId: 2372SourceImage: C:\\windows\\system32\\svchost.exeTargetProcessGUID: {297bc33e-5c2e-5f2b-0c00-000000000400}TargetProcessId: 768TargetImage: C:\\windows\\system32\\lsass.exeGrantedAccess: 0x1000CallTrace: C:\\windows\\SYSTEM32\\ntdll.dll+9c534|C:\\windows\\System32\\KERNELBASE.dll+6a7f5|c:\\windows\\system32\\lsm.dll+ff97|C:\\windows\\System32\\RPCRT4.dll+76953|C:\\windows\\System32\\RPCRT4.dll+da036|C:\\windows\\System32\\RPCRT4.dll+37a4c|C:\\windows\\System32\\RPCRT4.dll+548c8|C:\\windows\\System32\\RPCRT4.dll+2c921|C:\\windows\\System32\\RPCRT4.dll+2c1db|C:\\windows\\System32\\RPCRT4.dll+1a86f|C:\\windows\\System32\\RPCRT4.dll+19d1a|C:\\windows\\System32\\RPCRT4.dll+19301|C:\\windows\\System32\\RPCRT4.dll+18d6e|C:\\windows\\System32\\RPCRT4.dll+169a5|C:\\windows\\SYSTEM32\\ntdll.dll+333ed|C:\\windows\\SYSTEM32\\ntdll.dll+34142|C:\\windows\\System32\\KERNEL32.DLL+17bd4|C:\\windows\\SYSTEM32\\ntdll.dll+6ce51 \n",
      "- Process accessed:RuleName: -UtcTime: 2020-08-07 18:32:46.908SourceProcessGUID: {297bc33e-5c2f-5f2b-1200-000000000400}SourceProcessId: 452SourceThreadId: 2372SourceImage: C:\\windows\\system32\\svchost.exeTargetProcessGUID: {297bc33e-5c2e-5f2b-0c00-000000000400}TargetProcessId: 768TargetImage: C:\\windows\\system32\\lsass.exeGrantedAccess: 0x1000CallTrace: C:\\windows\\SYSTEM32\\ntdll.dll+9c534|C:\\windows\\System32\\KERNELBASE.dll+6a7f5|c:\\windows\\system32\\lsm.dll+10daa|c:\\windows\\system32\\lsm.dll+1008d|C:\\windows\\System32\\RPCRT4.dll+76953|C:\\windows\\System32\\RPCRT4.dll+da036|C:\\windows\\System32\\RPCRT4.dll+37a4c|C:\\windows\\System32\\RPCRT4.dll+548c8|C:\\windows\\System32\\RPCRT4.dll+2c921|C:\\windows\\System32\\RPCRT4.dll+2c1db|C:\\windows\\System32\\RPCRT4.dll+1a86f|C:\\windows\\System32\\RPCRT4.dll+19d1a|C:\\windows\\System32\\RPCRT4.dll+19301|C:\\windows\\System32\\RPCRT4.dll+18d6e|C:\\windows\\System32\\RPCRT4.dll+169a5|C:\\windows\\SYSTEM32\\ntdll.dll+333ed|C:\\windows\\SYSTEM32\\ntdll.dll+34142|C:\\windows\\System32\\KERNEL32.DLL+17bd4|C:\\windows\\SYSTEM32\\ntdll.dll+6ce51 \n",
      "\n",
      "\n",
      "Are there indications of Windows privilege escalation apparent in the logs?\n",
      "\n"
     ]
    }
   ],
   "source": [
    "prompt = get_summarize_prompt(messages_str, \"Windows privilege escalation\")\n",
    "print(prompt)"
   ]
  },
  {
   "cell_type": "code",
   "execution_count": 103,
   "metadata": {},
   "outputs": [
    {
     "name": "stdout",
     "output_type": "stream",
     "text": [
      "Yes, there are indications of Windows privilege escalation in the logs. \n",
      "\n",
      "The first event message shows that a local port was bound to by a system process with Process ID 4. \n",
      "\n",
      "The second and third event messages show that an outbound and inbound connection was permitted respectively, between the same source and destination addresses and ports. \n",
      "\n",
      "The fourth and fifth event messages show that a network connection was detected, initiated by process ID 4 (which is a system process) and connecting to port 445, which is commonly used for SMB file sharing. \n",
      "\n",
      "The sixth and seventh event messages show that process ID 452 (which is a svchost.exe process) accessed the lsass.exe process with granted access of 0x1000, which is a common technique used for privilege escalation. \n",
      "\n",
      "Overall, the combination of these events suggests that an attacker may have used a system process to establish a connection to a remote system and then used a privilege escalation technique to access sensitive information or perform malicious actions.\n"
     ]
    }
   ],
   "source": [
    "print(complete_prompt(prompt, system_role=SYSTEM_ROLE, temperature=0))"
   ]
  },
  {
   "attachments": {},
   "cell_type": "markdown",
   "metadata": {},
   "source": [
    "# 2. Detect signs of lateral movement"
   ]
  },
  {
   "cell_type": "code",
   "execution_count": 150,
   "metadata": {},
   "outputs": [],
   "source": [
    "TACTIC = \"Windows lateral movement\"\n",
    "df = json_pd.read_json(path_or_buf=MIMIKATZ, lines=True)\n",
    "df_description = df.describe().iloc[[0]].to_markdown()"
   ]
  },
  {
   "cell_type": "code",
   "execution_count": 151,
   "metadata": {},
   "outputs": [
    {
     "name": "stdout",
     "output_type": "stream",
     "text": [
      "Based on the data below, determine which windows event field names are most valuable for detecting Windows lateral movement?\n",
      "    \n",
      "Markdown table showing windows event field names and the count of unique values they contain:\n",
      "|       |   SeverityValue |   @version |   port |   Task |   Version |   RecordNumber |   ThreadID |   EventID |   Keywords |   ExecutionProcessID |   OpcodeValue |   FilterRTID |   LayerRTID |   SourcePort |   DestPort |   SourceThreadId |   KeyLength |   IpPort |   LogonType |   EventIdx |   EventCountTotal |   DestinationPort |   TerminalSessionId |   ParentProcessId |   RestrictedSidCount |   QueryStatus |   ERROR_EVT_UNRESOLVED |   MiniportNameLen |\n",
      "|:------|----------------:|-----------:|-------:|-------:|----------:|---------------:|-----------:|----------:|-----------:|---------------------:|--------------:|-------------:|------------:|-------------:|-----------:|-----------------:|------------:|---------:|------------:|-----------:|------------------:|------------------:|--------------------:|------------------:|---------------------:|--------------:|-----------------------:|------------------:|\n",
      "| count |             790 |        790 |    790 |    790 |       790 |            790 |        790 |       790 |        790 |                  790 |           790 |          103 |         103 |          115 |         52 |              140 |           4 |        5 |          12 |          4 |                 4 |                12 |                   3 |                 3 |                   35 |             2 |                      1 |                 2 |\n",
      "\n",
      "Format the selected field names as a list.\n",
      "The following windows event field names are most valuable for detecting Windows lateral movement:\n",
      "\n",
      "- ExecutionProcessID\n",
      "- ParentProcessId\n",
      "- ThreadID\n",
      "- IpPort\n",
      "- SourcePort\n",
      "- DestPort\n"
     ]
    }
   ],
   "source": [
    "columns_prompt = select_relevant_columns_prompt(adversary_tactic=TACTIC, df_description=df_description)\n",
    "print(columns_prompt)\n",
    "print()\n",
    "columns_response = complete_prompt(columns_prompt, system_role=SYSTEM_ROLE, temperature = 0)\n",
    "print(columns_response)"
   ]
  },
  {
   "cell_type": "code",
   "execution_count": 152,
   "metadata": {},
   "outputs": [
    {
     "name": "stdout",
     "output_type": "stream",
     "text": [
      "1. Filter for any rows where the ParentProcessId is not null and the ExecutionProcessID is different from the ParentProcessId. This indicates a process was spawned by another process, which is a common technique used in lateral movement.\n",
      "\n",
      "```\n",
      "df = df[(df['ParentProcessId'].notnull()) & (df['ExecutionProcessID'] != df['ParentProcessId'])]\n",
      "```\n",
      "\n",
      "2. Filter for any rows where the ThreadID is not null and the IpPort is not null. This indicates network activity, which is often used in lateral movement.\n",
      "\n",
      "```\n",
      "df = df[(df['ThreadID'].notnull()) & (df['IpPort'].notnull())]\n",
      "```\n",
      "\n",
      "3. Filter for any rows where the SourcePort is not null and the DestPort is null. This indicates outbound network traffic, which is often used in lateral movement.\n",
      "\n",
      "```\n",
      "df = df[(df['SourcePort'].notnull()) & (df['DestPort'].isnull())]\n",
      "```\n",
      "\n",
      "4. Filter for any rows where the SourcePort is not null and the DestPort is not null and they are different. This indicates network traffic between two different ports, which is often used in lateral movement.\n",
      "\n",
      "```\n",
      "df = df[(df['SourcePort'].notnull()) & (df['DestPort'].notnull()) & (df['SourcePort'] != df['DestPort'])]\n",
      "```\n",
      "\n",
      "5. Filter for any rows where the SourcePort is not null and the DestPort is not null and they are the same. This indicates network traffic between the same port, which is often used in lateral movement.\n",
      "\n",
      "```\n",
      "df = df[(df['SourcePort'].notnull()) & (df['DestPort'].notnull()) & (df['SourcePort'] == df['DestPort'])]\n",
      "```\n",
      "\n",
      "6. Filter for any rows where the IpPort is not null and the DestPort is not null and they are different. This indicates network traffic between two different ports, which is often used in lateral movement.\n",
      "\n",
      "```\n",
      "df = df[(df['IpPort'].notnull()) & (df['DestPort'].notnull()) & (df['IpPort'] != df['DestPort'])]\n",
      "```\n",
      "\n",
      "7. Filter for any rows where the IpPort is not null and the DestPort is not null and they are the same. This indicates network traffic between the same port, which is often used in lateral movement.\n",
      "\n",
      "```\n",
      "df = df[(df['IpPort'].notnull()) & (df['DestPort'].notnull()) & (df['IpPort'] == df['DestPort'])]\n",
      "```\n",
      "\n",
      "8. Filter for any rows where the ThreadID is not null and the IpPort is null. This indicates non-network activity, which is often used in lateral movement.\n",
      "\n",
      "```\n",
      "df = df[(df['ThreadID'].notnull()) & (df['IpPort'].isnull())]\n",
      "```\n",
      "\n",
      "9. Filter for any rows where the ExecutionProcessID is not null and the ParentProcessId is null. This indicates a process was started without a parent process, which is often used in lateral movement.\n",
      "\n",
      "```\n",
      "df = df[(df['ExecutionProcessID'].notnull()) & (df['ParentProcessId'].isnull())]\n",
      "```\n",
      "\n",
      "10. Filter for any rows where the ExecutionProcessID is not null and the ParentProcessId is null and the ThreadID is not null. This indicates a process was started without a parent process and has network activity, which is often used in lateral movement.\n",
      "\n",
      "```\n",
      "df = df[(df['ExecutionProcessID'].notnull()) & (df['ParentProcessId'].isnull()) & (df['ThreadID'].notnull())]\n",
      "```\n"
     ]
    }
   ],
   "source": [
    "filters_prompt = brainstorm_filters_prompt(adversary_tactic=TACTIC, column_names=columns_response)\n",
    "filters_response = complete_prompt(filters_prompt, system_role=SYSTEM_ROLE, temperature=0.15)\n",
    "print(filters_response)"
   ]
  },
  {
   "cell_type": "code",
   "execution_count": 153,
   "metadata": {},
   "outputs": [
    {
     "name": "stdout",
     "output_type": "stream",
     "text": [
      "df = df[(df['ParentProcessId'].notnull()) & (df['ExecutionProcessID'] != df['ParentProcessId'])]\n",
      "df = df[(df['ThreadID'].notnull()) & (df['IpPort'].notnull())]\n",
      "df = df[(df['SourcePort'].notnull()) & (df['DestPort'].isnull())]\n",
      "df = df[(df['SourcePort'].notnull()) & (df['DestPort'].notnull()) & (df['SourcePort'] != df['DestPort'])]\n",
      "df = df[(df['SourcePort'].notnull()) & (df['DestPort'].notnull()) & (df['SourcePort'] == df['DestPort'])]\n",
      "df = df[(df['IpPort'].notnull()) & (df['DestPort'].notnull()) & (df['IpPort'] != df['DestPort'])]\n",
      "df = df[(df['IpPort'].notnull()) & (df['DestPort'].notnull()) & (df['IpPort'] == df['DestPort'])]\n",
      "df = df[(df['ThreadID'].notnull()) & (df['IpPort'].isnull())]\n",
      "df = df[(df['ExecutionProcessID'].notnull()) & (df['ParentProcessId'].isnull())]\n",
      "df = df[(df['ExecutionProcessID'].notnull()) & (df['ParentProcessId'].isnull()) & (df['ThreadID'].notnull())]\n"
     ]
    }
   ],
   "source": [
    "format_prompt = format_filters_prompt(filters_response)\n",
    "formatted_response = complete_prompt(format_prompt, system_role=SYSTEM_ROLE, temperature=0)\n",
    "print(formatted_response)"
   ]
  },
  {
   "cell_type": "code",
   "execution_count": 162,
   "metadata": {},
   "outputs": [],
   "source": [
    "resulting_logs_size = []\n",
    "dfs = []\n",
    "for filter_command in formatted_response.split(\"\\n\"):\n",
    "    filter_command = filter_command.replace(\"`\",\"\")\n",
    "    filter_command = filter_command.replace('\"',\"\")\n",
    "    filter_command = filter_command.strip()\n",
    "    df = json_pd.read_json(path_or_buf=MIMIKATZ, lines=True)\n",
    "    df.fillna('', inplace=True)\n",
    "    try:\n",
    "        exec(filter_command)\n",
    "        resulting_logs_size.append(df.shape[0])\n",
    "        if 0 < df.shape[0] < 50:\n",
    "            dfs.append(df)\n",
    "    except:\n",
    "        print(\"filter failed\")\n",
    "        resulting_logs_size.append(None)"
   ]
  },
  {
   "cell_type": "code",
   "execution_count": 163,
   "metadata": {},
   "outputs": [
    {
     "data": {
      "text/plain": [
       "[790, 790, 0, 113, 677, 57, 733, 0, 0, 0]"
      ]
     },
     "execution_count": 163,
     "metadata": {},
     "output_type": "execute_result"
    }
   ],
   "source": [
    "resulting_logs_size"
   ]
  },
  {
   "cell_type": "code",
   "execution_count": 169,
   "metadata": {},
   "outputs": [
    {
     "data": {
      "text/plain": [
       "(50, 181)"
      ]
     },
     "execution_count": 169,
     "metadata": {},
     "output_type": "execute_result"
    }
   ],
   "source": [
    "df = json_pd.read_json(path_or_buf=MIMIKATZ, lines=True)\n",
    "df = df[(df['SourcePort'].notnull()) & (df['DestPort'].notnull()) & (df['SourcePort'] != df['DestPort'])]\n",
    "df.shape"
   ]
  },
  {
   "cell_type": "code",
   "execution_count": 172,
   "metadata": {},
   "outputs": [
    {
     "name": "stdout",
     "output_type": "stream",
     "text": [
      "You are analyzing windows event logs for signs of Windows lateral movement.\n",
      "\n",
      "The following event messages happen in chronological order:\n",
      "- The Windows Filtering Platform has permitted a connection.Application Information:Process ID:3124Application Name:\\device\\harddiskvolume2\\windowsazure\\guestagent_2.7.41491.993_2020-09-16_193546\\guestagent\\windowsazureguestagent.exeNetwork Information:Direction:OutboundSource Address:172.18.39.6Source Port:62303Destination Address:168.63.129.16Destination Port:80Protocol:6Filter Information:Filter Run-Time ID:71768Layer Name:ConnectLayer Run-Time ID:48 \n",
      "- The Windows Filtering Platform has permitted a connection.Application Information:Process ID:3692Application Name:\\device\\harddiskvolume2\\windowsazure\\guestagent_2.7.41491.993_2020-09-16_193257\\guestagent\\windowsazureguestagent.exeNetwork Information:Direction:OutboundSource Address:172.18.38.5Source Port:50092Destination Address:168.63.129.16Destination Port:80Protocol:6Filter Information:Filter Run-Time ID:70152Layer Name:ConnectLayer Run-Time ID:48 \n",
      "- The Windows Filtering Platform has permitted a connection.Application Information:Process ID:3568Application Name:\\device\\harddiskvolume2\\windowsazure\\guestagent_2.7.41491.993_2020-09-16_193557\\guestagent\\windowsazureguestagent.exeNetwork Information:Direction:OutboundSource Address:172.18.39.5Source Port:49259Destination Address:168.63.129.16Destination Port:80Protocol:6Filter Information:Filter Run-Time ID:70168Layer Name:ConnectLayer Run-Time ID:48 \n",
      "- The Windows Filtering Platform has permitted a connection.Application Information:Process ID:3124Application Name:\\device\\harddiskvolume2\\windowsazure\\guestagent_2.7.41491.993_2020-09-16_193546\\guestagent\\windowsazureguestagent.exeNetwork Information:Direction:OutboundSource Address:172.18.39.6Source Port:62304Destination Address:168.63.129.16Destination Port:80Protocol:6Filter Information:Filter Run-Time ID:71768Layer Name:ConnectLayer Run-Time ID:48 \n",
      "- The Windows Filtering Platform has permitted a connection.Application Information:Process ID:3692Application Name:\\device\\harddiskvolume2\\windowsazure\\guestagent_2.7.41491.993_2020-09-16_193257\\guestagent\\windowsazureguestagent.exeNetwork Information:Direction:OutboundSource Address:172.18.38.5Source Port:50093Destination Address:169.254.169.254Destination Port:80Protocol:6Filter Information:Filter Run-Time ID:71160Layer Name:ConnectLayer Run-Time ID:48 \n",
      "- The Windows Filtering Platform has permitted a connection.Application Information:Process ID:3368Application Name:\\device\\harddiskvolume2\\windows\\adws\\microsoft.activedirectory.webservices.exeNetwork Information:Direction:OutboundSource Address:::1Source Port:50094Destination Address:::1Destination Port:389Protocol:6Filter Information:Filter Run-Time ID:65853Layer Name:ConnectLayer Run-Time ID:50 \n",
      "- The Windows Filtering Platform has permitted a connection.Application Information:Process ID:696Application Name:\\device\\harddiskvolume2\\windows\\system32\\lsass.exeNetwork Information:Direction:InboundSource Address:::1Source Port:50094Destination Address:::1Destination Port:389Protocol:6Filter Information:Filter Run-Time ID:65851Layer Name:Receive/AcceptLayer Run-Time ID:46 \n",
      "- The Windows Filtering Platform has permitted a connection.Application Information:Process ID:3364Application Name:\\device\\harddiskvolume2\\windowsazure\\guestagent_2.7.41491.993_2020-09-16_193557\\waappagent.exeNetwork Information:Direction:OutboundSource Address:172.18.39.5Source Port:49260Destination Address:168.63.129.16Destination Port:80Protocol:6Filter Information:Filter Run-Time ID:70168Layer Name:ConnectLayer Run-Time ID:48 \n",
      "- The Windows Filtering Platform has permitted a connection.Application Information:Process ID:3692Application Name:\\device\\harddiskvolume2\\windowsazure\\guestagent_2.7.41491.993_2020-09-16_193257\\guestagent\\windowsazureguestagent.exeNetwork Information:Direction:OutboundSource Address:172.18.38.5Source Port:50095Destination Address:168.63.129.16Destination Port:80Protocol:6Filter Information:Filter Run-Time ID:70152Layer Name:ConnectLayer Run-Time ID:48 \n",
      "- The Windows Filtering Platform has permitted a connection.Application Information:Process ID:3700Application Name:\\device\\harddiskvolume2\\windowsazure\\guestagent_2.7.41491.993_2020-09-16_193257\\waappagent.exeNetwork Information:Direction:OutboundSource Address:172.18.38.5Source Port:50096Destination Address:168.63.129.16Destination Port:80Protocol:6Filter Information:Filter Run-Time ID:70152Layer Name:ConnectLayer Run-Time ID:48 \n",
      "- The Windows Filtering Platform has permitted a connection.Application Information:Process ID:3568Application Name:\\device\\harddiskvolume2\\windowsazure\\guestagent_2.7.41491.993_2020-09-16_193557\\guestagent\\windowsazureguestagent.exeNetwork Information:Direction:OutboundSource Address:172.18.39.5Source Port:49261Destination Address:168.63.129.16Destination Port:80Protocol:6Filter Information:Filter Run-Time ID:70168Layer Name:ConnectLayer Run-Time ID:48 \n",
      "- The Windows Filtering Platform has permitted a connection.Application Information:Process ID:3124Application Name:\\device\\harddiskvolume2\\windowsazure\\guestagent_2.7.41491.993_2020-09-16_193546\\guestagent\\windowsazureguestagent.exeNetwork Information:Direction:OutboundSource Address:172.18.39.6Source Port:62306Destination Address:168.63.129.16Destination Port:80Protocol:6Filter Information:Filter Run-Time ID:71768Layer Name:ConnectLayer Run-Time ID:48 \n",
      "- The Windows Filtering Platform has permitted a connection.Application Information:Process ID:3692Application Name:\\device\\harddiskvolume2\\windowsazure\\guestagent_2.7.41491.993_2020-09-16_193257\\guestagent\\windowsazureguestagent.exeNetwork Information:Direction:OutboundSource Address:172.18.38.5Source Port:50097Destination Address:168.63.129.16Destination Port:80Protocol:6Filter Information:Filter Run-Time ID:70152Layer Name:ConnectLayer Run-Time ID:48 \n",
      "- The Windows Filtering Platform has permitted a connection.Application Information:Process ID:8088Application Name:\\device\\harddiskvolume2\\users\\pgustavo\\downloads\\mimikatz_trunk\\x64\\mimikatz.exeNetwork Information:Direction:OutboundSource Address:172.18.39.5Source Port:49262Destination Address:172.18.38.5Destination Port:135Protocol:6Filter Information:Filter Run-Time ID:71240Layer Name:ConnectLayer Run-Time ID:48 \n",
      "- The Windows Filtering Platform has permitted a connection.Application Information:Process ID:8088Application Name:\\device\\harddiskvolume2\\users\\pgustavo\\downloads\\mimikatz_trunk\\x64\\mimikatz.exeNetwork Information:Direction:OutboundSource Address:172.18.39.5Source Port:49263Destination Address:172.18.38.5Destination Port:49674Protocol:6Filter Information:Filter Run-Time ID:71240Layer Name:ConnectLayer Run-Time ID:48 \n",
      "- The Windows Filtering Platform has permitted a connection.Application Information:Process ID:972Application Name:\\device\\harddiskvolume2\\windows\\system32\\svchost.exeNetwork Information:Direction:InboundSource Address:172.18.39.5Source Port:49262Destination Address:172.18.38.5Destination Port:135Protocol:6Filter Information:Filter Run-Time ID:69269Layer Name:Receive/AcceptLayer Run-Time ID:44 \n",
      "- The Windows Filtering Platform has permitted a connection.Application Information:Process ID:696Application Name:\\device\\harddiskvolume2\\windows\\system32\\lsass.exeNetwork Information:Direction:InboundSource Address:172.18.39.5Source Port:49263Destination Address:172.18.38.5Destination Port:49674Protocol:6Filter Information:Filter Run-Time ID:69269Layer Name:Receive/AcceptLayer Run-Time ID:44 \n",
      "- The Windows Filtering Platform has permitted a connection.Application Information:Process ID:3568Application Name:\\device\\harddiskvolume2\\windowsazure\\guestagent_2.7.41491.993_2020-09-16_193557\\guestagent\\windowsazureguestagent.exeNetwork Information:Direction:OutboundSource Address:172.18.39.5Source Port:49264Destination Address:168.63.129.16Destination Port:80Protocol:6Filter Information:Filter Run-Time ID:70168Layer Name:ConnectLayer Run-Time ID:48 \n",
      "- The Windows Filtering Platform has permitted a connection.Application Information:Process ID:3124Application Name:\\device\\harddiskvolume2\\windowsazure\\guestagent_2.7.41491.993_2020-09-16_193546\\guestagent\\windowsazureguestagent.exeNetwork Information:Direction:OutboundSource Address:172.18.39.6Source Port:62307Destination Address:168.63.129.16Destination Port:80Protocol:6Filter Information:Filter Run-Time ID:71768Layer Name:ConnectLayer Run-Time ID:48 \n",
      "- The Windows Filtering Platform has permitted a connection.Application Information:Process ID:3124Application Name:\\device\\harddiskvolume2\\windowsazure\\guestagent_2.7.41491.993_2020-09-16_193546\\guestagent\\windowsazureguestagent.exeNetwork Information:Direction:OutboundSource Address:172.18.39.6Source Port:62308Destination Address:169.254.169.254Destination Port:80Protocol:6Filter Information:Filter Run-Time ID:71639Layer Name:ConnectLayer Run-Time ID:48 \n",
      "\n",
      "\n",
      "Are there indications of Windows lateral movement apparent in the logs?\n",
      "\n"
     ]
    }
   ],
   "source": [
    "messages = df[\"Message\"].iloc[:20].to_list()\n",
    "messages_str = format_messages_as_str(messages)\n",
    "prompt = get_summarize_prompt(messages_str, TACTIC)\n",
    "print(prompt)"
   ]
  },
  {
   "cell_type": "code",
   "execution_count": 173,
   "metadata": {},
   "outputs": [
    {
     "name": "stdout",
     "output_type": "stream",
     "text": [
      "Yes, there are indications of Windows lateral movement apparent in the logs. \n",
      "\n",
      "The logs show multiple outbound connections from different processes (identified by their process IDs) to the same destination IP address (168.63.129.16), which is a Microsoft Azure IP address. This could indicate that an attacker is attempting to move laterally within the network by using compromised credentials or exploiting vulnerabilities to gain access to other systems within the same network. \n",
      "\n",
      "Additionally, the connection to the IP address 169.254.169.254 is a well-known Azure metadata endpoint, which could be used by an attacker to obtain sensitive information about the Azure environment. \n",
      "\n",
      "Finally, the connection from the Mimikatz tool to the destination IP address 172.18.38.5 on port 135 is a common technique used by attackers to perform pass-the-hash attacks and gain access to other systems within the network.\n"
     ]
    }
   ],
   "source": [
    "print(complete_prompt(prompt, system_role=SYSTEM_ROLE, temperature=0))"
   ]
  }
 ],
 "metadata": {
  "kernelspec": {
   "display_name": "env",
   "language": "python",
   "name": "python3"
  },
  "language_info": {
   "codemirror_mode": {
    "name": "ipython",
    "version": 3
   },
   "file_extension": ".py",
   "mimetype": "text/x-python",
   "name": "python",
   "nbconvert_exporter": "python",
   "pygments_lexer": "ipython3",
   "version": "3.9.0"
  },
  "orig_nbformat": 4
 },
 "nbformat": 4,
 "nbformat_minor": 2
}
